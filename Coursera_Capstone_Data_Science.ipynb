{
  "nbformat": 4,
  "nbformat_minor": 0,
  "metadata": {
    "colab": {
      "name": "Coursera_Capstone_Data_Science.ipynb",
      "provenance": [],
      "collapsed_sections": [],
      "authorship_tag": "ABX9TyM36p9clG634KhNlrweGFtf",
      "include_colab_link": true
    },
    "kernelspec": {
      "name": "python3",
      "display_name": "Python 3"
    }
  },
  "cells": [
    {
      "cell_type": "markdown",
      "metadata": {
        "id": "view-in-github",
        "colab_type": "text"
      },
      "source": [
        "<a href=\"https://colab.research.google.com/github/alesouzaeu/Coursera_Capstone/blob/main/Coursera_Capstone_Data_Science.ipynb\" target=\"_parent\"><img src=\"https://colab.research.google.com/assets/colab-badge.svg\" alt=\"Open In Colab\"/></a>"
      ]
    },
    {
      "cell_type": "markdown",
      "metadata": {
        "id": "CYHvdwGb-xPv"
      },
      "source": [
        "# Data Science Coursera Capstone\r\n",
        "\r\n",
        "---\r\n",
        "This notebook contains the Data Science Coursera Capstone.\r\n"
      ]
    },
    {
      "cell_type": "code",
      "metadata": {
        "id": "XKLDgUYA_NPe"
      },
      "source": [
        "import pandas as pd\r\n",
        "import numpy as np"
      ],
      "execution_count": 2,
      "outputs": []
    },
    {
      "cell_type": "markdown",
      "metadata": {
        "id": "weuf0KdS_Y6q"
      },
      "source": [
        "Hello Capstone Project Course!"
      ]
    }
  ]
}