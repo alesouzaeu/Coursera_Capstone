{
  "nbformat": 4,
  "nbformat_minor": 0,
  "metadata": {
    "colab": {
      "name": "Capstone Project - The Battle of the Neighborhoods.ipynb",
      "provenance": [],
      "authorship_tag": "ABX9TyPExSeLk2/5RwkxmySyLGLb",
      "include_colab_link": true
    },
    "kernelspec": {
      "name": "python3",
      "display_name": "Python 3"
    }
  },
  "cells": [
    {
      "cell_type": "markdown",
      "metadata": {
        "id": "view-in-github",
        "colab_type": "text"
      },
      "source": [
        "<a href=\"https://colab.research.google.com/github/alesouzaeu/Coursera_Capstone/blob/main/Capstone_Project_The_Battle_of_the_Neighborhoods.ipynb\" target=\"_parent\"><img src=\"https://colab.research.google.com/assets/colab-badge.svg\" alt=\"Open In Colab\"/></a>"
      ]
    },
    {
      "cell_type": "markdown",
      "metadata": {
        "id": "Ped6xs762-1D"
      },
      "source": [
        "\r\n",
        "# Capstone Project - The Battle of the Neighborhoods\r\n",
        "\r\n",
        "### Applied Data Science Capstone by IBM/Coursera"
      ]
    },
    {
      "cell_type": "markdown",
      "metadata": {
        "id": "DYmXLDbO3QSC"
      },
      "source": [
        "## Table of contents\r\n",
        "* [Introduction: Business Problem](#introduction)\r\n",
        "* [Data](#data)\r\n",
        "* [Methodology](#methodology)\r\n",
        "* [Analysis](#analysis)\r\n",
        "* [Results and Discussion](#results)\r\n",
        "* [Conclusion](#conclusion)"
      ]
    },
    {
      "cell_type": "markdown",
      "metadata": {
        "id": "D_MVIixw3dXS"
      },
      "source": [
        "## Introduction: Business Problem"
      ]
    },
    {
      "cell_type": "markdown",
      "metadata": {
        "id": "OJ0DEA_83ljw"
      },
      "source": [
        "In this project we will try to find the best location for a restaurant. This report will be targeted to people interested in opening a vegetarian restaurant in São Paulo's Capital, Brazil.\r\n",
        "\r\n",
        "In Brazil the vegetarian population has grown greatly. According to The IBOPE research, from April of 2018, about 14% of brazilians already declares vegetarian himselves.\r\n",
        "\r\n",
        "We know that are lots of restaurants in the São Paulo City, therefore We will try figure out the business profile of each borough. Assuming that São Paulo is an alpha global city, We must to know where we may open a new vegetarian restaurant. \r\n",
        "\r\n",
        "We will use the data science to find a few most promissing neighborhoods. Advantages of each area will then be clearly expressed so that best possible get more easely the make decision of the stakeholders."
      ]
    },
    {
      "cell_type": "code",
      "metadata": {
        "id": "NsibmWhKAI_i"
      },
      "source": [
        ""
      ],
      "execution_count": null,
      "outputs": []
    }
  ]
}