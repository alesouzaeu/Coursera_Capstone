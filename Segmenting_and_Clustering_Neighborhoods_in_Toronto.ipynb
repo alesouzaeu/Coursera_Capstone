{
  "nbformat": 4,
  "nbformat_minor": 0,
  "metadata": {
    "colab": {
      "name": "Segmenting and Clustering Neighborhoods in Toronto.ipynb",
      "provenance": [],
      "collapsed_sections": [],
      "authorship_tag": "ABX9TyOSbvL2KGYLnqQNYFAL0gC9",
      "include_colab_link": true
    },
    "kernelspec": {
      "name": "python3",
      "display_name": "Python 3"
    }
  },
  "cells": [
    {
      "cell_type": "markdown",
      "metadata": {
        "id": "view-in-github",
        "colab_type": "text"
      },
      "source": [
        "<a href=\"https://colab.research.google.com/github/alesouzaeu/Coursera_Capstone/blob/main/Segmenting_and_Clustering_Neighborhoods_in_Toronto.ipynb\" target=\"_parent\"><img src=\"https://colab.research.google.com/assets/colab-badge.svg\" alt=\"Open In Colab\"/></a>"
      ]
    },
    {
      "cell_type": "markdown",
      "metadata": {
        "id": "1Cays-lLoDRb"
      },
      "source": [
        "# Segmenting and Clustering Neighborhoods in Toronto"
      ]
    },
    {
      "cell_type": "markdown",
      "metadata": {
        "id": "8m-w9d7doVCJ"
      },
      "source": [
        "## Install the necessaries packages We will need"
      ]
    },
    {
      "cell_type": "code",
      "metadata": {
        "colab": {
          "base_uri": "https://localhost:8080/"
        },
        "id": "0_lCyvN1fxac",
        "outputId": "5b90ea0e-fab7-4673-cf4c-c5d516d4fa0e"
      },
      "source": [
        "!pip install requests2\r\n",
        "!pip install beautifulsoup4"
      ],
      "execution_count": 1,
      "outputs": [
        {
          "output_type": "stream",
          "text": [
            "Requirement already satisfied: requests2 in /usr/local/lib/python3.6/dist-packages (2.16.0)\n",
            "Requirement already satisfied: chardet<3.1.0,>=3.0.2 in /usr/local/lib/python3.6/dist-packages (from requests2) (3.0.4)\n",
            "Requirement already satisfied: urllib3<1.22,>=1.21.1 in /usr/local/lib/python3.6/dist-packages (from requests2) (1.21.1)\n",
            "Requirement already satisfied: certifi>=2017.4.17 in /usr/local/lib/python3.6/dist-packages (from requests2) (2020.12.5)\n",
            "Requirement already satisfied: idna<2.6,>=2.5 in /usr/local/lib/python3.6/dist-packages (from requests2) (2.5)\n",
            "Requirement already satisfied: beautifulsoup4 in /usr/local/lib/python3.6/dist-packages (4.6.3)\n"
          ],
          "name": "stdout"
        }
      ]
    },
    {
      "cell_type": "markdown",
      "metadata": {
        "id": "cTdcPF0Sospi"
      },
      "source": [
        "## Importing the libraries we will need."
      ]
    },
    {
      "cell_type": "code",
      "metadata": {
        "id": "9V3awsmNfe48",
        "colab": {
          "base_uri": "https://localhost:8080/"
        },
        "outputId": "3c731b25-5e58-43ef-f583-29d129de4f02"
      },
      "source": [
        "from bs4 import BeautifulSoup\r\n",
        "import requests\r\n",
        "import pandas as pd\r\n",
        "\r\n",
        "# Matplotlib and associated plotting modules\r\n",
        "import matplotlib.cm as cm\r\n",
        "import matplotlib.colors as colors\r\n",
        "\r\n",
        "# import k-means from clustering stage\r\n",
        "from sklearn.cluster import KMeans\r\n",
        "\r\n",
        "from geopy.geocoders import Nominatim\r\n",
        "\r\n",
        "\r\n",
        "#!conda install -c conda-forge folium=0.5.0 --yes # uncomment this line if you haven't completed the Foursquare API lab\r\n",
        "import folium # map rendering library\r\n",
        "\r\n",
        "print('Libraries imported.')\r\n",
        "\r\n",
        "\r\n",
        "#Tirando Warnings do código\r\n",
        "import warnings\r\n",
        "warnings.filterwarnings('ignore')\r\n",
        "\r\n",
        "\r\n"
      ],
      "execution_count": 119,
      "outputs": [
        {
          "output_type": "stream",
          "text": [
            "Libraries imported.\n"
          ],
          "name": "stdout"
        }
      ]
    },
    {
      "cell_type": "markdown",
      "metadata": {
        "id": "ZDkbUFDio5K9"
      },
      "source": [
        "## Making web scraping with Beautiful Soup 4 in Wikipedia URL "
      ]
    },
    {
      "cell_type": "code",
      "metadata": {
        "id": "N4Tdd2Vzhpj2"
      },
      "source": [
        "# I called the URL that contains the table we want.\r\n",
        "URL = \"https://en.wikipedia.org/wiki/List_of_postal_codes_of_Canada:_M\"\r\n",
        "response = requests.get(URL)\r\n",
        "soup = BeautifulSoup(response.text, 'html.parser')\r\n",
        "# Parseamos o Html desejado em variáveis para facilitar o trabalho\r\n",
        "table = soup.find('table', {'class':'wikitable sortable'}).tbody\r\n",
        "\r\n",
        "rows = table.find_all('tr')\r\n",
        "\r\n",
        "columns = [v.text.replace('\\n', '') for v in rows[0].find_all('th')]\r\n",
        "# Defining the columns names with the web scraped texts.\r\n",
        "df =  pd.DataFrame(columns=columns)\r\n",
        "# Creating a loop to take a data at the right position in the dataframe.\r\n",
        "for i in range(1, len(rows)):\r\n",
        "  tds = rows[i].find_all('td')\r\n",
        "\r\n",
        "  if len(tds) ==4:\r\n",
        "      values = [tds[0].text, tds[1].text, tds[2].text.replace('\\n','')]# eliminamos caracteres indesejados por meio do método .replace\r\n",
        "  else:\r\n",
        "    values = [td.text.replace('\\n','') for td in tds ]# eliminamos caracteres indesejados por meio do método .replace\r\n",
        " \r\n",
        "  df = df.append(pd.Series(values, index=columns), ignore_index=True)\r\n",
        "\r\n",
        "\r\n"
      ],
      "execution_count": 120,
      "outputs": []
    },
    {
      "cell_type": "code",
      "metadata": {
        "colab": {
          "base_uri": "https://localhost:8080/",
          "height": 47
        },
        "id": "MClXFAFw1KEO",
        "outputId": "500f78ca-76f2-48f2-fac1-cf55df9cc85f"
      },
      "source": [
        "# Printing the Header\r\n",
        "\r\n",
        "df_header = pd.DataFrame(columns=columns)\r\n",
        "df_header"
      ],
      "execution_count": 121,
      "outputs": [
        {
          "output_type": "execute_result",
          "data": {
            "text/html": [
              "<div>\n",
              "<style scoped>\n",
              "    .dataframe tbody tr th:only-of-type {\n",
              "        vertical-align: middle;\n",
              "    }\n",
              "\n",
              "    .dataframe tbody tr th {\n",
              "        vertical-align: top;\n",
              "    }\n",
              "\n",
              "    .dataframe thead th {\n",
              "        text-align: right;\n",
              "    }\n",
              "</style>\n",
              "<table border=\"1\" class=\"dataframe\">\n",
              "  <thead>\n",
              "    <tr style=\"text-align: right;\">\n",
              "      <th></th>\n",
              "      <th>Postal Code</th>\n",
              "      <th>Borough</th>\n",
              "      <th>Neighbourhood</th>\n",
              "    </tr>\n",
              "  </thead>\n",
              "  <tbody>\n",
              "  </tbody>\n",
              "</table>\n",
              "</div>"
            ],
            "text/plain": [
              "Empty DataFrame\n",
              "Columns: [Postal Code, Borough, Neighbourhood]\n",
              "Index: []"
            ]
          },
          "metadata": {
            "tags": []
          },
          "execution_count": 121
        }
      ]
    },
    {
      "cell_type": "code",
      "metadata": {
        "colab": {
          "base_uri": "https://localhost:8080/",
          "height": 347
        },
        "id": "L4Vh8hRBpYet",
        "outputId": "191bbe39-e6c1-444b-e191-b02b7669adaa"
      },
      "source": [
        "# The Dataframe became like that.\r\n",
        "\r\n",
        "df.head(10)"
      ],
      "execution_count": 122,
      "outputs": [
        {
          "output_type": "execute_result",
          "data": {
            "text/html": [
              "<div>\n",
              "<style scoped>\n",
              "    .dataframe tbody tr th:only-of-type {\n",
              "        vertical-align: middle;\n",
              "    }\n",
              "\n",
              "    .dataframe tbody tr th {\n",
              "        vertical-align: top;\n",
              "    }\n",
              "\n",
              "    .dataframe thead th {\n",
              "        text-align: right;\n",
              "    }\n",
              "</style>\n",
              "<table border=\"1\" class=\"dataframe\">\n",
              "  <thead>\n",
              "    <tr style=\"text-align: right;\">\n",
              "      <th></th>\n",
              "      <th>Postal Code</th>\n",
              "      <th>Borough</th>\n",
              "      <th>Neighbourhood</th>\n",
              "    </tr>\n",
              "  </thead>\n",
              "  <tbody>\n",
              "    <tr>\n",
              "      <th>0</th>\n",
              "      <td>M1A</td>\n",
              "      <td>Not assigned</td>\n",
              "      <td>Not assigned</td>\n",
              "    </tr>\n",
              "    <tr>\n",
              "      <th>1</th>\n",
              "      <td>M2A</td>\n",
              "      <td>Not assigned</td>\n",
              "      <td>Not assigned</td>\n",
              "    </tr>\n",
              "    <tr>\n",
              "      <th>2</th>\n",
              "      <td>M3A</td>\n",
              "      <td>North York</td>\n",
              "      <td>Parkwoods</td>\n",
              "    </tr>\n",
              "    <tr>\n",
              "      <th>3</th>\n",
              "      <td>M4A</td>\n",
              "      <td>North York</td>\n",
              "      <td>Victoria Village</td>\n",
              "    </tr>\n",
              "    <tr>\n",
              "      <th>4</th>\n",
              "      <td>M5A</td>\n",
              "      <td>Downtown Toronto</td>\n",
              "      <td>Regent Park, Harbourfront</td>\n",
              "    </tr>\n",
              "    <tr>\n",
              "      <th>5</th>\n",
              "      <td>M6A</td>\n",
              "      <td>North York</td>\n",
              "      <td>Lawrence Manor, Lawrence Heights</td>\n",
              "    </tr>\n",
              "    <tr>\n",
              "      <th>6</th>\n",
              "      <td>M7A</td>\n",
              "      <td>Downtown Toronto</td>\n",
              "      <td>Queen's Park, Ontario Provincial Government</td>\n",
              "    </tr>\n",
              "    <tr>\n",
              "      <th>7</th>\n",
              "      <td>M8A</td>\n",
              "      <td>Not assigned</td>\n",
              "      <td>Not assigned</td>\n",
              "    </tr>\n",
              "    <tr>\n",
              "      <th>8</th>\n",
              "      <td>M9A</td>\n",
              "      <td>Etobicoke</td>\n",
              "      <td>Islington Avenue, Humber Valley Village</td>\n",
              "    </tr>\n",
              "    <tr>\n",
              "      <th>9</th>\n",
              "      <td>M1B</td>\n",
              "      <td>Scarborough</td>\n",
              "      <td>Malvern, Rouge</td>\n",
              "    </tr>\n",
              "  </tbody>\n",
              "</table>\n",
              "</div>"
            ],
            "text/plain": [
              "  Postal Code           Borough                                Neighbourhood\n",
              "0         M1A      Not assigned                                 Not assigned\n",
              "1         M2A      Not assigned                                 Not assigned\n",
              "2         M3A        North York                                    Parkwoods\n",
              "3         M4A        North York                             Victoria Village\n",
              "4         M5A  Downtown Toronto                    Regent Park, Harbourfront\n",
              "5         M6A        North York             Lawrence Manor, Lawrence Heights\n",
              "6         M7A  Downtown Toronto  Queen's Park, Ontario Provincial Government\n",
              "7         M8A      Not assigned                                 Not assigned\n",
              "8         M9A         Etobicoke      Islington Avenue, Humber Valley Village\n",
              "9         M1B       Scarborough                               Malvern, Rouge"
            ]
          },
          "metadata": {
            "tags": []
          },
          "execution_count": 122
        }
      ]
    },
    {
      "cell_type": "code",
      "metadata": {
        "id": "BAgjz98UwHv7"
      },
      "source": [
        "# We got out the Dataframe at json format.\r\n",
        "\r\n",
        "df.to_json(r'list_of_postal_code_of_canada_m.json')"
      ],
      "execution_count": 123,
      "outputs": []
    },
    {
      "cell_type": "code",
      "metadata": {
        "id": "FFywhF-T20EP"
      },
      "source": [
        "# We have imported the table to our notebook.\r\n",
        "df = pd.read_json('list_of_postal_code_of_canada_m.json')"
      ],
      "execution_count": 124,
      "outputs": []
    },
    {
      "cell_type": "code",
      "metadata": {
        "colab": {
          "base_uri": "https://localhost:8080/",
          "height": 197
        },
        "id": "gfuhOwkK4gSJ",
        "outputId": "de2ca2e3-181c-4217-f8a3-ae0a4f887275"
      },
      "source": [
        "df.head()"
      ],
      "execution_count": 125,
      "outputs": [
        {
          "output_type": "execute_result",
          "data": {
            "text/html": [
              "<div>\n",
              "<style scoped>\n",
              "    .dataframe tbody tr th:only-of-type {\n",
              "        vertical-align: middle;\n",
              "    }\n",
              "\n",
              "    .dataframe tbody tr th {\n",
              "        vertical-align: top;\n",
              "    }\n",
              "\n",
              "    .dataframe thead th {\n",
              "        text-align: right;\n",
              "    }\n",
              "</style>\n",
              "<table border=\"1\" class=\"dataframe\">\n",
              "  <thead>\n",
              "    <tr style=\"text-align: right;\">\n",
              "      <th></th>\n",
              "      <th>Postal Code</th>\n",
              "      <th>Borough</th>\n",
              "      <th>Neighbourhood</th>\n",
              "    </tr>\n",
              "  </thead>\n",
              "  <tbody>\n",
              "    <tr>\n",
              "      <th>0</th>\n",
              "      <td>M1A</td>\n",
              "      <td>Not assigned</td>\n",
              "      <td>Not assigned</td>\n",
              "    </tr>\n",
              "    <tr>\n",
              "      <th>1</th>\n",
              "      <td>M2A</td>\n",
              "      <td>Not assigned</td>\n",
              "      <td>Not assigned</td>\n",
              "    </tr>\n",
              "    <tr>\n",
              "      <th>2</th>\n",
              "      <td>M3A</td>\n",
              "      <td>North York</td>\n",
              "      <td>Parkwoods</td>\n",
              "    </tr>\n",
              "    <tr>\n",
              "      <th>3</th>\n",
              "      <td>M4A</td>\n",
              "      <td>North York</td>\n",
              "      <td>Victoria Village</td>\n",
              "    </tr>\n",
              "    <tr>\n",
              "      <th>4</th>\n",
              "      <td>M5A</td>\n",
              "      <td>Downtown Toronto</td>\n",
              "      <td>Regent Park, Harbourfront</td>\n",
              "    </tr>\n",
              "  </tbody>\n",
              "</table>\n",
              "</div>"
            ],
            "text/plain": [
              "  Postal Code           Borough              Neighbourhood\n",
              "0         M1A      Not assigned               Not assigned\n",
              "1         M2A      Not assigned               Not assigned\n",
              "2         M3A        North York                  Parkwoods\n",
              "3         M4A        North York           Victoria Village\n",
              "4         M5A  Downtown Toronto  Regent Park, Harbourfront"
            ]
          },
          "metadata": {
            "tags": []
          },
          "execution_count": 125
        }
      ]
    },
    {
      "cell_type": "code",
      "metadata": {
        "id": "qWrH11Ud5DMF",
        "colab": {
          "base_uri": "https://localhost:8080/"
        },
        "outputId": "89a84620-65c6-499f-a788-7d151a401113"
      },
      "source": [
        "df.shape"
      ],
      "execution_count": 126,
      "outputs": [
        {
          "output_type": "execute_result",
          "data": {
            "text/plain": [
              "(180, 3)"
            ]
          },
          "metadata": {
            "tags": []
          },
          "execution_count": 126
        }
      ]
    },
    {
      "cell_type": "markdown",
      "metadata": {
        "id": "V5fmq4rBsZCn"
      },
      "source": [
        "### Now, We have to throw out the 'Not assigned' data."
      ]
    },
    {
      "cell_type": "code",
      "metadata": {
        "id": "75jra0gkbPFA"
      },
      "source": [
        "df = df.loc[df['Neighbourhood']!='Not assigned'] "
      ],
      "execution_count": 127,
      "outputs": []
    },
    {
      "cell_type": "code",
      "metadata": {
        "colab": {
          "base_uri": "https://localhost:8080/",
          "height": 647
        },
        "id": "Gh-P2K-Mlw5V",
        "outputId": "26a04a0d-e146-4ed2-af0c-1925161cc522"
      },
      "source": [
        "df.head(20)"
      ],
      "execution_count": 128,
      "outputs": [
        {
          "output_type": "execute_result",
          "data": {
            "text/html": [
              "<div>\n",
              "<style scoped>\n",
              "    .dataframe tbody tr th:only-of-type {\n",
              "        vertical-align: middle;\n",
              "    }\n",
              "\n",
              "    .dataframe tbody tr th {\n",
              "        vertical-align: top;\n",
              "    }\n",
              "\n",
              "    .dataframe thead th {\n",
              "        text-align: right;\n",
              "    }\n",
              "</style>\n",
              "<table border=\"1\" class=\"dataframe\">\n",
              "  <thead>\n",
              "    <tr style=\"text-align: right;\">\n",
              "      <th></th>\n",
              "      <th>Postal Code</th>\n",
              "      <th>Borough</th>\n",
              "      <th>Neighbourhood</th>\n",
              "    </tr>\n",
              "  </thead>\n",
              "  <tbody>\n",
              "    <tr>\n",
              "      <th>2</th>\n",
              "      <td>M3A</td>\n",
              "      <td>North York</td>\n",
              "      <td>Parkwoods</td>\n",
              "    </tr>\n",
              "    <tr>\n",
              "      <th>3</th>\n",
              "      <td>M4A</td>\n",
              "      <td>North York</td>\n",
              "      <td>Victoria Village</td>\n",
              "    </tr>\n",
              "    <tr>\n",
              "      <th>4</th>\n",
              "      <td>M5A</td>\n",
              "      <td>Downtown Toronto</td>\n",
              "      <td>Regent Park, Harbourfront</td>\n",
              "    </tr>\n",
              "    <tr>\n",
              "      <th>5</th>\n",
              "      <td>M6A</td>\n",
              "      <td>North York</td>\n",
              "      <td>Lawrence Manor, Lawrence Heights</td>\n",
              "    </tr>\n",
              "    <tr>\n",
              "      <th>6</th>\n",
              "      <td>M7A</td>\n",
              "      <td>Downtown Toronto</td>\n",
              "      <td>Queen's Park, Ontario Provincial Government</td>\n",
              "    </tr>\n",
              "    <tr>\n",
              "      <th>8</th>\n",
              "      <td>M9A</td>\n",
              "      <td>Etobicoke</td>\n",
              "      <td>Islington Avenue, Humber Valley Village</td>\n",
              "    </tr>\n",
              "    <tr>\n",
              "      <th>9</th>\n",
              "      <td>M1B</td>\n",
              "      <td>Scarborough</td>\n",
              "      <td>Malvern, Rouge</td>\n",
              "    </tr>\n",
              "    <tr>\n",
              "      <th>11</th>\n",
              "      <td>M3B</td>\n",
              "      <td>North York</td>\n",
              "      <td>Don Mills</td>\n",
              "    </tr>\n",
              "    <tr>\n",
              "      <th>12</th>\n",
              "      <td>M4B</td>\n",
              "      <td>East York</td>\n",
              "      <td>Parkview Hill, Woodbine Gardens</td>\n",
              "    </tr>\n",
              "    <tr>\n",
              "      <th>13</th>\n",
              "      <td>M5B</td>\n",
              "      <td>Downtown Toronto</td>\n",
              "      <td>Garden District, Ryerson</td>\n",
              "    </tr>\n",
              "    <tr>\n",
              "      <th>14</th>\n",
              "      <td>M6B</td>\n",
              "      <td>North York</td>\n",
              "      <td>Glencairn</td>\n",
              "    </tr>\n",
              "    <tr>\n",
              "      <th>17</th>\n",
              "      <td>M9B</td>\n",
              "      <td>Etobicoke</td>\n",
              "      <td>West Deane Park, Princess Gardens, Martin Grov...</td>\n",
              "    </tr>\n",
              "    <tr>\n",
              "      <th>18</th>\n",
              "      <td>M1C</td>\n",
              "      <td>Scarborough</td>\n",
              "      <td>Rouge Hill, Port Union, Highland Creek</td>\n",
              "    </tr>\n",
              "    <tr>\n",
              "      <th>20</th>\n",
              "      <td>M3C</td>\n",
              "      <td>North York</td>\n",
              "      <td>Don Mills</td>\n",
              "    </tr>\n",
              "    <tr>\n",
              "      <th>21</th>\n",
              "      <td>M4C</td>\n",
              "      <td>East York</td>\n",
              "      <td>Woodbine Heights</td>\n",
              "    </tr>\n",
              "    <tr>\n",
              "      <th>22</th>\n",
              "      <td>M5C</td>\n",
              "      <td>Downtown Toronto</td>\n",
              "      <td>St. James Town</td>\n",
              "    </tr>\n",
              "    <tr>\n",
              "      <th>23</th>\n",
              "      <td>M6C</td>\n",
              "      <td>York</td>\n",
              "      <td>Humewood-Cedarvale</td>\n",
              "    </tr>\n",
              "    <tr>\n",
              "      <th>26</th>\n",
              "      <td>M9C</td>\n",
              "      <td>Etobicoke</td>\n",
              "      <td>Eringate, Bloordale Gardens, Old Burnhamthorpe...</td>\n",
              "    </tr>\n",
              "    <tr>\n",
              "      <th>27</th>\n",
              "      <td>M1E</td>\n",
              "      <td>Scarborough</td>\n",
              "      <td>Guildwood, Morningside, West Hill</td>\n",
              "    </tr>\n",
              "    <tr>\n",
              "      <th>30</th>\n",
              "      <td>M4E</td>\n",
              "      <td>East Toronto</td>\n",
              "      <td>The Beaches</td>\n",
              "    </tr>\n",
              "  </tbody>\n",
              "</table>\n",
              "</div>"
            ],
            "text/plain": [
              "   Postal Code           Borough  \\\n",
              "2          M3A        North York   \n",
              "3          M4A        North York   \n",
              "4          M5A  Downtown Toronto   \n",
              "5          M6A        North York   \n",
              "6          M7A  Downtown Toronto   \n",
              "8          M9A         Etobicoke   \n",
              "9          M1B       Scarborough   \n",
              "11         M3B        North York   \n",
              "12         M4B         East York   \n",
              "13         M5B  Downtown Toronto   \n",
              "14         M6B        North York   \n",
              "17         M9B         Etobicoke   \n",
              "18         M1C       Scarborough   \n",
              "20         M3C        North York   \n",
              "21         M4C         East York   \n",
              "22         M5C  Downtown Toronto   \n",
              "23         M6C              York   \n",
              "26         M9C         Etobicoke   \n",
              "27         M1E       Scarborough   \n",
              "30         M4E      East Toronto   \n",
              "\n",
              "                                        Neighbourhood  \n",
              "2                                           Parkwoods  \n",
              "3                                    Victoria Village  \n",
              "4                           Regent Park, Harbourfront  \n",
              "5                    Lawrence Manor, Lawrence Heights  \n",
              "6         Queen's Park, Ontario Provincial Government  \n",
              "8             Islington Avenue, Humber Valley Village  \n",
              "9                                      Malvern, Rouge  \n",
              "11                                          Don Mills  \n",
              "12                    Parkview Hill, Woodbine Gardens  \n",
              "13                           Garden District, Ryerson  \n",
              "14                                          Glencairn  \n",
              "17  West Deane Park, Princess Gardens, Martin Grov...  \n",
              "18             Rouge Hill, Port Union, Highland Creek  \n",
              "20                                          Don Mills  \n",
              "21                                   Woodbine Heights  \n",
              "22                                     St. James Town  \n",
              "23                                 Humewood-Cedarvale  \n",
              "26  Eringate, Bloordale Gardens, Old Burnhamthorpe...  \n",
              "27                  Guildwood, Morningside, West Hill  \n",
              "30                                        The Beaches  "
            ]
          },
          "metadata": {
            "tags": []
          },
          "execution_count": 128
        }
      ]
    },
    {
      "cell_type": "code",
      "metadata": {
        "id": "1Sv1Y4VoCZX-"
      },
      "source": [
        "df1 = df"
      ],
      "execution_count": 129,
      "outputs": []
    },
    {
      "cell_type": "code",
      "metadata": {
        "id": "WPx-IyQO_Xsw"
      },
      "source": [
        "# new data frame with split value columns \r\n",
        "df1[\"Neighbourhood\"]= df1[\"Neighbourhood\"].str.split(\", \", n = 1, expand = True) \r\n",
        "\r\n",
        "# df display "
      ],
      "execution_count": 130,
      "outputs": []
    },
    {
      "cell_type": "code",
      "metadata": {
        "id": "UCa7Pr8ZC9RV"
      },
      "source": [
        "pd.set_option(\"display.max_rows\", None, \"display.max_columns\", None)\r\n"
      ],
      "execution_count": 131,
      "outputs": []
    },
    {
      "cell_type": "code",
      "metadata": {
        "colab": {
          "base_uri": "https://localhost:8080/",
          "height": 197
        },
        "id": "uHR0TvYPDuGi",
        "outputId": "3efcc8c3-eb2d-4f57-f2a3-5a47540f2c8d"
      },
      "source": [
        "df1.head()"
      ],
      "execution_count": 132,
      "outputs": [
        {
          "output_type": "execute_result",
          "data": {
            "text/html": [
              "<div>\n",
              "<style scoped>\n",
              "    .dataframe tbody tr th:only-of-type {\n",
              "        vertical-align: middle;\n",
              "    }\n",
              "\n",
              "    .dataframe tbody tr th {\n",
              "        vertical-align: top;\n",
              "    }\n",
              "\n",
              "    .dataframe thead th {\n",
              "        text-align: right;\n",
              "    }\n",
              "</style>\n",
              "<table border=\"1\" class=\"dataframe\">\n",
              "  <thead>\n",
              "    <tr style=\"text-align: right;\">\n",
              "      <th></th>\n",
              "      <th>Postal Code</th>\n",
              "      <th>Borough</th>\n",
              "      <th>Neighbourhood</th>\n",
              "    </tr>\n",
              "  </thead>\n",
              "  <tbody>\n",
              "    <tr>\n",
              "      <th>2</th>\n",
              "      <td>M3A</td>\n",
              "      <td>North York</td>\n",
              "      <td>Parkwoods</td>\n",
              "    </tr>\n",
              "    <tr>\n",
              "      <th>3</th>\n",
              "      <td>M4A</td>\n",
              "      <td>North York</td>\n",
              "      <td>Victoria Village</td>\n",
              "    </tr>\n",
              "    <tr>\n",
              "      <th>4</th>\n",
              "      <td>M5A</td>\n",
              "      <td>Downtown Toronto</td>\n",
              "      <td>Regent Park</td>\n",
              "    </tr>\n",
              "    <tr>\n",
              "      <th>5</th>\n",
              "      <td>M6A</td>\n",
              "      <td>North York</td>\n",
              "      <td>Lawrence Manor</td>\n",
              "    </tr>\n",
              "    <tr>\n",
              "      <th>6</th>\n",
              "      <td>M7A</td>\n",
              "      <td>Downtown Toronto</td>\n",
              "      <td>Queen's Park</td>\n",
              "    </tr>\n",
              "  </tbody>\n",
              "</table>\n",
              "</div>"
            ],
            "text/plain": [
              "  Postal Code           Borough     Neighbourhood\n",
              "2         M3A        North York         Parkwoods\n",
              "3         M4A        North York  Victoria Village\n",
              "4         M5A  Downtown Toronto       Regent Park\n",
              "5         M6A        North York    Lawrence Manor\n",
              "6         M7A  Downtown Toronto      Queen's Park"
            ]
          },
          "metadata": {
            "tags": []
          },
          "execution_count": 132
        }
      ]
    },
    {
      "cell_type": "code",
      "metadata": {
        "colab": {
          "base_uri": "https://localhost:8080/",
          "height": 197
        },
        "id": "6LB2lZe612iw",
        "outputId": "cbccf0f9-65db-4d7d-c6f4-b8e74712cedc"
      },
      "source": [
        "#create variable column inside file called `myAddress and assign it to seleted address columns\r\n",
        "df1['Query'] = df1['Postal Code'] + \", \" +  df1['Borough']+ \", \" + df1['Neighbourhood']\r\n",
        "\r\n",
        "#print new column with index -first 5 rows only\r\n",
        "df1.head()"
      ],
      "execution_count": 133,
      "outputs": [
        {
          "output_type": "execute_result",
          "data": {
            "text/html": [
              "<div>\n",
              "<style scoped>\n",
              "    .dataframe tbody tr th:only-of-type {\n",
              "        vertical-align: middle;\n",
              "    }\n",
              "\n",
              "    .dataframe tbody tr th {\n",
              "        vertical-align: top;\n",
              "    }\n",
              "\n",
              "    .dataframe thead th {\n",
              "        text-align: right;\n",
              "    }\n",
              "</style>\n",
              "<table border=\"1\" class=\"dataframe\">\n",
              "  <thead>\n",
              "    <tr style=\"text-align: right;\">\n",
              "      <th></th>\n",
              "      <th>Postal Code</th>\n",
              "      <th>Borough</th>\n",
              "      <th>Neighbourhood</th>\n",
              "      <th>Query</th>\n",
              "    </tr>\n",
              "  </thead>\n",
              "  <tbody>\n",
              "    <tr>\n",
              "      <th>2</th>\n",
              "      <td>M3A</td>\n",
              "      <td>North York</td>\n",
              "      <td>Parkwoods</td>\n",
              "      <td>M3A, North York, Parkwoods</td>\n",
              "    </tr>\n",
              "    <tr>\n",
              "      <th>3</th>\n",
              "      <td>M4A</td>\n",
              "      <td>North York</td>\n",
              "      <td>Victoria Village</td>\n",
              "      <td>M4A, North York, Victoria Village</td>\n",
              "    </tr>\n",
              "    <tr>\n",
              "      <th>4</th>\n",
              "      <td>M5A</td>\n",
              "      <td>Downtown Toronto</td>\n",
              "      <td>Regent Park</td>\n",
              "      <td>M5A, Downtown Toronto, Regent Park</td>\n",
              "    </tr>\n",
              "    <tr>\n",
              "      <th>5</th>\n",
              "      <td>M6A</td>\n",
              "      <td>North York</td>\n",
              "      <td>Lawrence Manor</td>\n",
              "      <td>M6A, North York, Lawrence Manor</td>\n",
              "    </tr>\n",
              "    <tr>\n",
              "      <th>6</th>\n",
              "      <td>M7A</td>\n",
              "      <td>Downtown Toronto</td>\n",
              "      <td>Queen's Park</td>\n",
              "      <td>M7A, Downtown Toronto, Queen's Park</td>\n",
              "    </tr>\n",
              "  </tbody>\n",
              "</table>\n",
              "</div>"
            ],
            "text/plain": [
              "  Postal Code           Borough     Neighbourhood  \\\n",
              "2         M3A        North York         Parkwoods   \n",
              "3         M4A        North York  Victoria Village   \n",
              "4         M5A  Downtown Toronto       Regent Park   \n",
              "5         M6A        North York    Lawrence Manor   \n",
              "6         M7A  Downtown Toronto      Queen's Park   \n",
              "\n",
              "                                 Query  \n",
              "2           M3A, North York, Parkwoods  \n",
              "3    M4A, North York, Victoria Village  \n",
              "4   M5A, Downtown Toronto, Regent Park  \n",
              "5      M6A, North York, Lawrence Manor  \n",
              "6  M7A, Downtown Toronto, Queen's Park  "
            ]
          },
          "metadata": {
            "tags": []
          },
          "execution_count": 133
        }
      ]
    },
    {
      "cell_type": "code",
      "metadata": {
        "id": "arLji7ptBCqm"
      },
      "source": [
        ""
      ],
      "execution_count": 133,
      "outputs": []
    },
    {
      "cell_type": "markdown",
      "metadata": {
        "id": "gjUgRUSYXVur"
      },
      "source": [
        "### Now We need to insert new columns to our dataset with Latitude and Longitude"
      ]
    },
    {
      "cell_type": "code",
      "metadata": {
        "colab": {
          "base_uri": "https://localhost:8080/",
          "height": 197
        },
        "id": "3EgXkTKS3AAR",
        "outputId": "07b3f5bc-af15-4063-cfcf-a80c907833b8"
      },
      "source": [
        "\r\n",
        "#create 2 new columns to store lat/long - initalise to null\r\n",
        "df1['Latitude'] = \"\"\r\n",
        "df1['Longitude'] = \"\"\r\n",
        "\r\n",
        "#print first rows to sample\r\n",
        "df1.head()"
      ],
      "execution_count": 134,
      "outputs": [
        {
          "output_type": "execute_result",
          "data": {
            "text/html": [
              "<div>\n",
              "<style scoped>\n",
              "    .dataframe tbody tr th:only-of-type {\n",
              "        vertical-align: middle;\n",
              "    }\n",
              "\n",
              "    .dataframe tbody tr th {\n",
              "        vertical-align: top;\n",
              "    }\n",
              "\n",
              "    .dataframe thead th {\n",
              "        text-align: right;\n",
              "    }\n",
              "</style>\n",
              "<table border=\"1\" class=\"dataframe\">\n",
              "  <thead>\n",
              "    <tr style=\"text-align: right;\">\n",
              "      <th></th>\n",
              "      <th>Postal Code</th>\n",
              "      <th>Borough</th>\n",
              "      <th>Neighbourhood</th>\n",
              "      <th>Query</th>\n",
              "      <th>Latitude</th>\n",
              "      <th>Longitude</th>\n",
              "    </tr>\n",
              "  </thead>\n",
              "  <tbody>\n",
              "    <tr>\n",
              "      <th>2</th>\n",
              "      <td>M3A</td>\n",
              "      <td>North York</td>\n",
              "      <td>Parkwoods</td>\n",
              "      <td>M3A, North York, Parkwoods</td>\n",
              "      <td></td>\n",
              "      <td></td>\n",
              "    </tr>\n",
              "    <tr>\n",
              "      <th>3</th>\n",
              "      <td>M4A</td>\n",
              "      <td>North York</td>\n",
              "      <td>Victoria Village</td>\n",
              "      <td>M4A, North York, Victoria Village</td>\n",
              "      <td></td>\n",
              "      <td></td>\n",
              "    </tr>\n",
              "    <tr>\n",
              "      <th>4</th>\n",
              "      <td>M5A</td>\n",
              "      <td>Downtown Toronto</td>\n",
              "      <td>Regent Park</td>\n",
              "      <td>M5A, Downtown Toronto, Regent Park</td>\n",
              "      <td></td>\n",
              "      <td></td>\n",
              "    </tr>\n",
              "    <tr>\n",
              "      <th>5</th>\n",
              "      <td>M6A</td>\n",
              "      <td>North York</td>\n",
              "      <td>Lawrence Manor</td>\n",
              "      <td>M6A, North York, Lawrence Manor</td>\n",
              "      <td></td>\n",
              "      <td></td>\n",
              "    </tr>\n",
              "    <tr>\n",
              "      <th>6</th>\n",
              "      <td>M7A</td>\n",
              "      <td>Downtown Toronto</td>\n",
              "      <td>Queen's Park</td>\n",
              "      <td>M7A, Downtown Toronto, Queen's Park</td>\n",
              "      <td></td>\n",
              "      <td></td>\n",
              "    </tr>\n",
              "  </tbody>\n",
              "</table>\n",
              "</div>"
            ],
            "text/plain": [
              "  Postal Code           Borough     Neighbourhood  \\\n",
              "2         M3A        North York         Parkwoods   \n",
              "3         M4A        North York  Victoria Village   \n",
              "4         M5A  Downtown Toronto       Regent Park   \n",
              "5         M6A        North York    Lawrence Manor   \n",
              "6         M7A  Downtown Toronto      Queen's Park   \n",
              "\n",
              "                                 Query Latitude Longitude  \n",
              "2           M3A, North York, Parkwoods                     \n",
              "3    M4A, North York, Victoria Village                     \n",
              "4   M5A, Downtown Toronto, Regent Park                     \n",
              "5      M6A, North York, Lawrence Manor                     \n",
              "6  M7A, Downtown Toronto, Queen's Park                     "
            ]
          },
          "metadata": {
            "tags": []
          },
          "execution_count": 134
        }
      ]
    },
    {
      "cell_type": "markdown",
      "metadata": {
        "id": "NprzHFK6Xhzw"
      },
      "source": [
        "### Here We are must to find the locations for each Postal Code with the Library GeoPy"
      ]
    },
    {
      "cell_type": "code",
      "metadata": {
        "colab": {
          "base_uri": "https://localhost:8080/",
          "height": 197
        },
        "id": "rpzLmcfX3PiZ",
        "outputId": "38de828e-0d7e-4739-b105-b12085c6ca0b"
      },
      "source": [
        "'''\r\n",
        "**Get Lat/Long Data with GeoPy**\r\n",
        "---------------------\r\n",
        "\r\n",
        "the code below calls a geopy API using a concatenated column of address values. We use this column as a query key \r\n",
        "to pull back cooresponding lat/long coordinates.\r\n",
        "'''\r\n",
        "\r\n",
        "geolocator = Nominatim(user_agent=\"geoapiExercises\")\r\n",
        "\r\n",
        "for i in df1.index:\r\n",
        "    try:\r\n",
        "        #tries fetch address from geopy\r\n",
        "        location = geolocator.geocode(df1['Query'][i])\r\n",
        "        \r\n",
        "        #append lat/long to column using dataframe location\r\n",
        "        df1.loc[i,'Latitude'] = location.latitude\r\n",
        "        df1.loc[i,'Longitude'] = location.longitude\r\n",
        "    except:\r\n",
        "        #catches exception for the case where no value is returned\r\n",
        "        #appends null value to column\r\n",
        "        df1.loc[i,'Latitude'] = \"null\"\r\n",
        "        df1.loc[i,'Longitude'] = \"null\"\r\n",
        "#print first rows as sample\r\n",
        "df1.head()"
      ],
      "execution_count": 135,
      "outputs": [
        {
          "output_type": "execute_result",
          "data": {
            "text/html": [
              "<div>\n",
              "<style scoped>\n",
              "    .dataframe tbody tr th:only-of-type {\n",
              "        vertical-align: middle;\n",
              "    }\n",
              "\n",
              "    .dataframe tbody tr th {\n",
              "        vertical-align: top;\n",
              "    }\n",
              "\n",
              "    .dataframe thead th {\n",
              "        text-align: right;\n",
              "    }\n",
              "</style>\n",
              "<table border=\"1\" class=\"dataframe\">\n",
              "  <thead>\n",
              "    <tr style=\"text-align: right;\">\n",
              "      <th></th>\n",
              "      <th>Postal Code</th>\n",
              "      <th>Borough</th>\n",
              "      <th>Neighbourhood</th>\n",
              "      <th>Query</th>\n",
              "      <th>Latitude</th>\n",
              "      <th>Longitude</th>\n",
              "    </tr>\n",
              "  </thead>\n",
              "  <tbody>\n",
              "    <tr>\n",
              "      <th>2</th>\n",
              "      <td>M3A</td>\n",
              "      <td>North York</td>\n",
              "      <td>Parkwoods</td>\n",
              "      <td>M3A, North York, Parkwoods</td>\n",
              "      <td>null</td>\n",
              "      <td>null</td>\n",
              "    </tr>\n",
              "    <tr>\n",
              "      <th>3</th>\n",
              "      <td>M4A</td>\n",
              "      <td>North York</td>\n",
              "      <td>Victoria Village</td>\n",
              "      <td>M4A, North York, Victoria Village</td>\n",
              "      <td>null</td>\n",
              "      <td>null</td>\n",
              "    </tr>\n",
              "    <tr>\n",
              "      <th>4</th>\n",
              "      <td>M5A</td>\n",
              "      <td>Downtown Toronto</td>\n",
              "      <td>Regent Park</td>\n",
              "      <td>M5A, Downtown Toronto, Regent Park</td>\n",
              "      <td>null</td>\n",
              "      <td>null</td>\n",
              "    </tr>\n",
              "    <tr>\n",
              "      <th>5</th>\n",
              "      <td>M6A</td>\n",
              "      <td>North York</td>\n",
              "      <td>Lawrence Manor</td>\n",
              "      <td>M6A, North York, Lawrence Manor</td>\n",
              "      <td>null</td>\n",
              "      <td>null</td>\n",
              "    </tr>\n",
              "    <tr>\n",
              "      <th>6</th>\n",
              "      <td>M7A</td>\n",
              "      <td>Downtown Toronto</td>\n",
              "      <td>Queen's Park</td>\n",
              "      <td>M7A, Downtown Toronto, Queen's Park</td>\n",
              "      <td>null</td>\n",
              "      <td>null</td>\n",
              "    </tr>\n",
              "  </tbody>\n",
              "</table>\n",
              "</div>"
            ],
            "text/plain": [
              "  Postal Code           Borough     Neighbourhood  \\\n",
              "2         M3A        North York         Parkwoods   \n",
              "3         M4A        North York  Victoria Village   \n",
              "4         M5A  Downtown Toronto       Regent Park   \n",
              "5         M6A        North York    Lawrence Manor   \n",
              "6         M7A  Downtown Toronto      Queen's Park   \n",
              "\n",
              "                                 Query Latitude Longitude  \n",
              "2           M3A, North York, Parkwoods     null      null  \n",
              "3    M4A, North York, Victoria Village     null      null  \n",
              "4   M5A, Downtown Toronto, Regent Park     null      null  \n",
              "5      M6A, North York, Lawrence Manor     null      null  \n",
              "6  M7A, Downtown Toronto, Queen's Park     null      null  "
            ]
          },
          "metadata": {
            "tags": []
          },
          "execution_count": 135
        }
      ]
    },
    {
      "cell_type": "code",
      "metadata": {
        "colab": {
          "base_uri": "https://localhost:8080/"
        },
        "id": "KBFMB7abeiav",
        "outputId": "ce6e6109-d20d-44dd-a509-875e413932fa"
      },
      "source": [
        "address = 'Toronto, Ontario, CA'\r\n",
        "\r\n",
        "geolocator = Nominatim(user_agent=\"geoapiExercises\")\r\n",
        "location = geolocator.geocode(address)\r\n",
        "latitude = location.latitude\r\n",
        "longitude = location.longitude\r\n",
        "print('The geograpical coordinate of Toronto are {}, {}.'.format(latitude, longitude))"
      ],
      "execution_count": 143,
      "outputs": [
        {
          "output_type": "stream",
          "text": [
            "The geograpical coordinate of Toronto are 43.6534817, -79.3839347.\n"
          ],
          "name": "stdout"
        }
      ]
    },
    {
      "cell_type": "code",
      "metadata": {
        "id": "3_YcZLhK5F9n"
      },
      "source": [
        "df1 = df1.loc[df1['Latitude']!='null'] "
      ],
      "execution_count": 137,
      "outputs": []
    },
    {
      "cell_type": "code",
      "metadata": {
        "colab": {
          "base_uri": "https://localhost:8080/",
          "height": 437
        },
        "id": "TDPuGuvQKa2g",
        "outputId": "9b81d9af-b586-445a-ce4c-85f1a634305c"
      },
      "source": [
        "df1"
      ],
      "execution_count": 138,
      "outputs": [
        {
          "output_type": "execute_result",
          "data": {
            "text/html": [
              "<div>\n",
              "<style scoped>\n",
              "    .dataframe tbody tr th:only-of-type {\n",
              "        vertical-align: middle;\n",
              "    }\n",
              "\n",
              "    .dataframe tbody tr th {\n",
              "        vertical-align: top;\n",
              "    }\n",
              "\n",
              "    .dataframe thead th {\n",
              "        text-align: right;\n",
              "    }\n",
              "</style>\n",
              "<table border=\"1\" class=\"dataframe\">\n",
              "  <thead>\n",
              "    <tr style=\"text-align: right;\">\n",
              "      <th></th>\n",
              "      <th>Postal Code</th>\n",
              "      <th>Borough</th>\n",
              "      <th>Neighbourhood</th>\n",
              "      <th>Query</th>\n",
              "      <th>Latitude</th>\n",
              "      <th>Longitude</th>\n",
              "    </tr>\n",
              "  </thead>\n",
              "  <tbody>\n",
              "    <tr>\n",
              "      <th>9</th>\n",
              "      <td>M1B</td>\n",
              "      <td>Scarborough</td>\n",
              "      <td>Malvern</td>\n",
              "      <td>M1B, Scarborough, Malvern</td>\n",
              "      <td>43.8092</td>\n",
              "      <td>-79.2217</td>\n",
              "    </tr>\n",
              "    <tr>\n",
              "      <th>18</th>\n",
              "      <td>M1C</td>\n",
              "      <td>Scarborough</td>\n",
              "      <td>Rouge Hill</td>\n",
              "      <td>M1C, Scarborough, Rouge Hill</td>\n",
              "      <td>43.7803</td>\n",
              "      <td>-79.1305</td>\n",
              "    </tr>\n",
              "    <tr>\n",
              "      <th>26</th>\n",
              "      <td>M9C</td>\n",
              "      <td>Etobicoke</td>\n",
              "      <td>Eringate</td>\n",
              "      <td>M9C, Etobicoke, Eringate</td>\n",
              "      <td>43.6623</td>\n",
              "      <td>-79.5765</td>\n",
              "    </tr>\n",
              "    <tr>\n",
              "      <th>36</th>\n",
              "      <td>M1G</td>\n",
              "      <td>Scarborough</td>\n",
              "      <td>Woburn</td>\n",
              "      <td>M1G, Scarborough, Woburn</td>\n",
              "      <td>43.7598</td>\n",
              "      <td>-79.2253</td>\n",
              "    </tr>\n",
              "    <tr>\n",
              "      <th>49</th>\n",
              "      <td>M5H</td>\n",
              "      <td>Downtown Toronto</td>\n",
              "      <td>Richmond</td>\n",
              "      <td>M5H, Downtown Toronto, Richmond</td>\n",
              "      <td>43.6512</td>\n",
              "      <td>-79.3813</td>\n",
              "    </tr>\n",
              "    <tr>\n",
              "      <th>68</th>\n",
              "      <td>M6K</td>\n",
              "      <td>West Toronto</td>\n",
              "      <td>Brockton</td>\n",
              "      <td>M6K, West Toronto, Brockton</td>\n",
              "      <td>43.6509</td>\n",
              "      <td>-79.44</td>\n",
              "    </tr>\n",
              "    <tr>\n",
              "      <th>82</th>\n",
              "      <td>M2M</td>\n",
              "      <td>North York</td>\n",
              "      <td>Willowdale</td>\n",
              "      <td>M2M, North York, Willowdale</td>\n",
              "      <td>43.786</td>\n",
              "      <td>-79.416</td>\n",
              "    </tr>\n",
              "    <tr>\n",
              "      <th>91</th>\n",
              "      <td>M2N</td>\n",
              "      <td>North York</td>\n",
              "      <td>Willowdale</td>\n",
              "      <td>M2N, North York, Willowdale</td>\n",
              "      <td>43.7615</td>\n",
              "      <td>-79.4109</td>\n",
              "    </tr>\n",
              "    <tr>\n",
              "      <th>95</th>\n",
              "      <td>M6N</td>\n",
              "      <td>York</td>\n",
              "      <td>Runnymede</td>\n",
              "      <td>M6N, York, Runnymede</td>\n",
              "      <td>43.6682</td>\n",
              "      <td>-79.4793</td>\n",
              "    </tr>\n",
              "    <tr>\n",
              "      <th>104</th>\n",
              "      <td>M6P</td>\n",
              "      <td>West Toronto</td>\n",
              "      <td>High Park</td>\n",
              "      <td>M6P, West Toronto, High Park</td>\n",
              "      <td>43.6539</td>\n",
              "      <td>-79.4669</td>\n",
              "    </tr>\n",
              "    <tr>\n",
              "      <th>116</th>\n",
              "      <td>M9R</td>\n",
              "      <td>Etobicoke</td>\n",
              "      <td>Kingsview Village</td>\n",
              "      <td>M9R, Etobicoke, Kingsview Village</td>\n",
              "      <td>43.6995</td>\n",
              "      <td>-79.5563</td>\n",
              "    </tr>\n",
              "    <tr>\n",
              "      <th>122</th>\n",
              "      <td>M6S</td>\n",
              "      <td>West Toronto</td>\n",
              "      <td>Runnymede</td>\n",
              "      <td>M6S, West Toronto, Runnymede</td>\n",
              "      <td>43.6635</td>\n",
              "      <td>-79.4895</td>\n",
              "    </tr>\n",
              "    <tr>\n",
              "      <th>144</th>\n",
              "      <td>M1W</td>\n",
              "      <td>Scarborough</td>\n",
              "      <td>Steeles West</td>\n",
              "      <td>M1W, Scarborough, Steeles West</td>\n",
              "      <td>43.8162</td>\n",
              "      <td>-79.3145</td>\n",
              "    </tr>\n",
              "  </tbody>\n",
              "</table>\n",
              "</div>"
            ],
            "text/plain": [
              "    Postal Code           Borough      Neighbourhood  \\\n",
              "9           M1B       Scarborough            Malvern   \n",
              "18          M1C       Scarborough         Rouge Hill   \n",
              "26          M9C         Etobicoke           Eringate   \n",
              "36          M1G       Scarborough             Woburn   \n",
              "49          M5H  Downtown Toronto           Richmond   \n",
              "68          M6K      West Toronto           Brockton   \n",
              "82          M2M        North York         Willowdale   \n",
              "91          M2N        North York         Willowdale   \n",
              "95          M6N              York          Runnymede   \n",
              "104         M6P      West Toronto          High Park   \n",
              "116         M9R         Etobicoke  Kingsview Village   \n",
              "122         M6S      West Toronto          Runnymede   \n",
              "144         M1W       Scarborough       Steeles West   \n",
              "\n",
              "                                 Query Latitude Longitude  \n",
              "9            M1B, Scarborough, Malvern  43.8092  -79.2217  \n",
              "18        M1C, Scarborough, Rouge Hill  43.7803  -79.1305  \n",
              "26            M9C, Etobicoke, Eringate  43.6623  -79.5765  \n",
              "36            M1G, Scarborough, Woburn  43.7598  -79.2253  \n",
              "49     M5H, Downtown Toronto, Richmond  43.6512  -79.3813  \n",
              "68         M6K, West Toronto, Brockton  43.6509    -79.44  \n",
              "82         M2M, North York, Willowdale   43.786   -79.416  \n",
              "91         M2N, North York, Willowdale  43.7615  -79.4109  \n",
              "95                M6N, York, Runnymede  43.6682  -79.4793  \n",
              "104       M6P, West Toronto, High Park  43.6539  -79.4669  \n",
              "116  M9R, Etobicoke, Kingsview Village  43.6995  -79.5563  \n",
              "122       M6S, West Toronto, Runnymede  43.6635  -79.4895  \n",
              "144     M1W, Scarborough, Steeles West  43.8162  -79.3145  "
            ]
          },
          "metadata": {
            "tags": []
          },
          "execution_count": 138
        }
      ]
    },
    {
      "cell_type": "code",
      "metadata": {
        "id": "16PmcpRt52Le"
      },
      "source": [
        "df1 = df1.reset_index()"
      ],
      "execution_count": 139,
      "outputs": []
    },
    {
      "cell_type": "code",
      "metadata": {
        "colab": {
          "base_uri": "https://localhost:8080/",
          "height": 437
        },
        "id": "5NtT8CRJ6IXl",
        "outputId": "462df29f-5811-427d-b50b-4478b196c1db"
      },
      "source": [
        "df1.drop(['index'], axis=1)"
      ],
      "execution_count": 140,
      "outputs": [
        {
          "output_type": "execute_result",
          "data": {
            "text/html": [
              "<div>\n",
              "<style scoped>\n",
              "    .dataframe tbody tr th:only-of-type {\n",
              "        vertical-align: middle;\n",
              "    }\n",
              "\n",
              "    .dataframe tbody tr th {\n",
              "        vertical-align: top;\n",
              "    }\n",
              "\n",
              "    .dataframe thead th {\n",
              "        text-align: right;\n",
              "    }\n",
              "</style>\n",
              "<table border=\"1\" class=\"dataframe\">\n",
              "  <thead>\n",
              "    <tr style=\"text-align: right;\">\n",
              "      <th></th>\n",
              "      <th>Postal Code</th>\n",
              "      <th>Borough</th>\n",
              "      <th>Neighbourhood</th>\n",
              "      <th>Query</th>\n",
              "      <th>Latitude</th>\n",
              "      <th>Longitude</th>\n",
              "    </tr>\n",
              "  </thead>\n",
              "  <tbody>\n",
              "    <tr>\n",
              "      <th>0</th>\n",
              "      <td>M1B</td>\n",
              "      <td>Scarborough</td>\n",
              "      <td>Malvern</td>\n",
              "      <td>M1B, Scarborough, Malvern</td>\n",
              "      <td>43.8092</td>\n",
              "      <td>-79.2217</td>\n",
              "    </tr>\n",
              "    <tr>\n",
              "      <th>1</th>\n",
              "      <td>M1C</td>\n",
              "      <td>Scarborough</td>\n",
              "      <td>Rouge Hill</td>\n",
              "      <td>M1C, Scarborough, Rouge Hill</td>\n",
              "      <td>43.7803</td>\n",
              "      <td>-79.1305</td>\n",
              "    </tr>\n",
              "    <tr>\n",
              "      <th>2</th>\n",
              "      <td>M9C</td>\n",
              "      <td>Etobicoke</td>\n",
              "      <td>Eringate</td>\n",
              "      <td>M9C, Etobicoke, Eringate</td>\n",
              "      <td>43.6623</td>\n",
              "      <td>-79.5765</td>\n",
              "    </tr>\n",
              "    <tr>\n",
              "      <th>3</th>\n",
              "      <td>M1G</td>\n",
              "      <td>Scarborough</td>\n",
              "      <td>Woburn</td>\n",
              "      <td>M1G, Scarborough, Woburn</td>\n",
              "      <td>43.7598</td>\n",
              "      <td>-79.2253</td>\n",
              "    </tr>\n",
              "    <tr>\n",
              "      <th>4</th>\n",
              "      <td>M5H</td>\n",
              "      <td>Downtown Toronto</td>\n",
              "      <td>Richmond</td>\n",
              "      <td>M5H, Downtown Toronto, Richmond</td>\n",
              "      <td>43.6512</td>\n",
              "      <td>-79.3813</td>\n",
              "    </tr>\n",
              "    <tr>\n",
              "      <th>5</th>\n",
              "      <td>M6K</td>\n",
              "      <td>West Toronto</td>\n",
              "      <td>Brockton</td>\n",
              "      <td>M6K, West Toronto, Brockton</td>\n",
              "      <td>43.6509</td>\n",
              "      <td>-79.44</td>\n",
              "    </tr>\n",
              "    <tr>\n",
              "      <th>6</th>\n",
              "      <td>M2M</td>\n",
              "      <td>North York</td>\n",
              "      <td>Willowdale</td>\n",
              "      <td>M2M, North York, Willowdale</td>\n",
              "      <td>43.786</td>\n",
              "      <td>-79.416</td>\n",
              "    </tr>\n",
              "    <tr>\n",
              "      <th>7</th>\n",
              "      <td>M2N</td>\n",
              "      <td>North York</td>\n",
              "      <td>Willowdale</td>\n",
              "      <td>M2N, North York, Willowdale</td>\n",
              "      <td>43.7615</td>\n",
              "      <td>-79.4109</td>\n",
              "    </tr>\n",
              "    <tr>\n",
              "      <th>8</th>\n",
              "      <td>M6N</td>\n",
              "      <td>York</td>\n",
              "      <td>Runnymede</td>\n",
              "      <td>M6N, York, Runnymede</td>\n",
              "      <td>43.6682</td>\n",
              "      <td>-79.4793</td>\n",
              "    </tr>\n",
              "    <tr>\n",
              "      <th>9</th>\n",
              "      <td>M6P</td>\n",
              "      <td>West Toronto</td>\n",
              "      <td>High Park</td>\n",
              "      <td>M6P, West Toronto, High Park</td>\n",
              "      <td>43.6539</td>\n",
              "      <td>-79.4669</td>\n",
              "    </tr>\n",
              "    <tr>\n",
              "      <th>10</th>\n",
              "      <td>M9R</td>\n",
              "      <td>Etobicoke</td>\n",
              "      <td>Kingsview Village</td>\n",
              "      <td>M9R, Etobicoke, Kingsview Village</td>\n",
              "      <td>43.6995</td>\n",
              "      <td>-79.5563</td>\n",
              "    </tr>\n",
              "    <tr>\n",
              "      <th>11</th>\n",
              "      <td>M6S</td>\n",
              "      <td>West Toronto</td>\n",
              "      <td>Runnymede</td>\n",
              "      <td>M6S, West Toronto, Runnymede</td>\n",
              "      <td>43.6635</td>\n",
              "      <td>-79.4895</td>\n",
              "    </tr>\n",
              "    <tr>\n",
              "      <th>12</th>\n",
              "      <td>M1W</td>\n",
              "      <td>Scarborough</td>\n",
              "      <td>Steeles West</td>\n",
              "      <td>M1W, Scarborough, Steeles West</td>\n",
              "      <td>43.8162</td>\n",
              "      <td>-79.3145</td>\n",
              "    </tr>\n",
              "  </tbody>\n",
              "</table>\n",
              "</div>"
            ],
            "text/plain": [
              "   Postal Code           Borough      Neighbourhood  \\\n",
              "0          M1B       Scarborough            Malvern   \n",
              "1          M1C       Scarborough         Rouge Hill   \n",
              "2          M9C         Etobicoke           Eringate   \n",
              "3          M1G       Scarborough             Woburn   \n",
              "4          M5H  Downtown Toronto           Richmond   \n",
              "5          M6K      West Toronto           Brockton   \n",
              "6          M2M        North York         Willowdale   \n",
              "7          M2N        North York         Willowdale   \n",
              "8          M6N              York          Runnymede   \n",
              "9          M6P      West Toronto          High Park   \n",
              "10         M9R         Etobicoke  Kingsview Village   \n",
              "11         M6S      West Toronto          Runnymede   \n",
              "12         M1W       Scarborough       Steeles West   \n",
              "\n",
              "                                Query Latitude Longitude  \n",
              "0           M1B, Scarborough, Malvern  43.8092  -79.2217  \n",
              "1        M1C, Scarborough, Rouge Hill  43.7803  -79.1305  \n",
              "2            M9C, Etobicoke, Eringate  43.6623  -79.5765  \n",
              "3            M1G, Scarborough, Woburn  43.7598  -79.2253  \n",
              "4     M5H, Downtown Toronto, Richmond  43.6512  -79.3813  \n",
              "5         M6K, West Toronto, Brockton  43.6509    -79.44  \n",
              "6         M2M, North York, Willowdale   43.786   -79.416  \n",
              "7         M2N, North York, Willowdale  43.7615  -79.4109  \n",
              "8                M6N, York, Runnymede  43.6682  -79.4793  \n",
              "9        M6P, West Toronto, High Park  43.6539  -79.4669  \n",
              "10  M9R, Etobicoke, Kingsview Village  43.6995  -79.5563  \n",
              "11       M6S, West Toronto, Runnymede  43.6635  -79.4895  \n",
              "12     M1W, Scarborough, Steeles West  43.8162  -79.3145  "
            ]
          },
          "metadata": {
            "tags": []
          },
          "execution_count": 140
        }
      ]
    },
    {
      "cell_type": "markdown",
      "metadata": {
        "id": "a1sID1zxrcQQ"
      },
      "source": [
        "### So, This is the shape of our dataframe\r\n"
      ]
    },
    {
      "cell_type": "code",
      "metadata": {
        "colab": {
          "base_uri": "https://localhost:8080/"
        },
        "id": "JuD6oFpnK1Tp",
        "outputId": "fee7ebad-9eb7-42f5-f2e3-b496008929dc"
      },
      "source": [
        "df1.shape"
      ],
      "execution_count": 141,
      "outputs": [
        {
          "output_type": "execute_result",
          "data": {
            "text/plain": [
              "(13, 7)"
            ]
          },
          "metadata": {
            "tags": []
          },
          "execution_count": 141
        }
      ]
    }
  ]
}